{
 "cells": [
  {
   "cell_type": "markdown",
   "metadata": {},
   "source": [
    "# first line\n",
    "## second caption\n",
    "\n",
    "1. abc\n",
    "1. def\n",
    "1. ghi\n",
    "\n",
    "| Cluster Size | Count | NCO | BDO | PPCD |\n",
    "|--------------|-------|-----|-----|-----|\n",
    "| 3344 | 456 | NCO | BDO | PPCD |\n",
    "|--------------|-------|-----|-----|-----|\n",
    "| 123 | 123 | NCO | BDO | PPCD |\n",
    "|--------------|-------|-----|-----|-----|\n"
   ]
  },
  {
   "cell_type": "code",
   "execution_count": null,
   "metadata": {},
   "outputs": [],
   "source": [
    "from pathlib import Path\n"
   ]
  },
  {
   "cell_type": "code",
   "execution_count": 6,
   "metadata": {},
   "outputs": [
    {
     "data": {
      "text/plain": [
       "'234 hello world'"
      ]
     },
     "execution_count": 6,
     "metadata": {},
     "output_type": "execute_result"
    }
   ],
   "source": [
    "with open(\"../../tools/abc.txt\") as file:\n",
    "    a = file.readlines()\n",
    "\n",
    "a[1]"
   ]
  },
  {
   "cell_type": "code",
   "execution_count": null,
   "metadata": {},
   "outputs": [],
   "source": []
  }
 ],
 "metadata": {
  "kernelspec": {
   "display_name": "django",
   "language": "python",
   "name": "python3"
  },
  "language_info": {
   "codemirror_mode": {
    "name": "ipython",
    "version": 3
   },
   "file_extension": ".py",
   "mimetype": "text/x-python",
   "name": "python",
   "nbconvert_exporter": "python",
   "pygments_lexer": "ipython3",
   "version": "3.11.8"
  }
 },
 "nbformat": 4,
 "nbformat_minor": 2
}
